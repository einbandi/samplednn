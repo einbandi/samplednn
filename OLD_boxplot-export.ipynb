{
 "cells": [
  {
   "cell_type": "code",
   "execution_count": 21,
   "metadata": {},
   "outputs": [],
   "source": [
    "from sklearn.manifold import TSNE\n",
    "from kernel_method import KernelMap\n",
    "import numpy as np\n",
    "import scipy.spatial.distance as spdist\n",
    "import matplotlib.pyplot as plt\n",
    "\n",
    "import torch\n",
    "import time\n",
    "import os\n",
    "from PIL import Image\n",
    "import csv\n",
    "import json"
   ]
  },
  {
   "cell_type": "code",
   "execution_count": 22,
   "metadata": {},
   "outputs": [],
   "source": [
    "training_outputs = np.load('exported-data/training_outputs_NEW.npy')\n",
    "training_outputs_epoch = np.load('exported-data/training_outputs_epoch_NEW.npy')\n",
    "test_outputs = np.load('exported-data/test_outputs_NEW.npy')\n",
    "\n",
    "training_inputs = np.load('exported-data/training_inputs.npy')\n",
    "test_inputs = np.load('exported-data/test_inputs.npy')"
   ]
  },
  {
   "cell_type": "code",
   "execution_count": 15,
   "metadata": {},
   "outputs": [],
   "source": [
    "np.savetxt(\"exported-data/instance-4728.csv\", bar, delimiter=\",\")"
   ]
  },
  {
   "cell_type": "code",
   "execution_count": 23,
   "metadata": {},
   "outputs": [],
   "source": [
    "output_subset = training_outputs_epoch.reshape(10,1000,16,20,10)[:,::10].reshape(-1,16,20,10)"
   ]
  },
  {
   "cell_type": "code",
   "execution_count": 24,
   "metadata": {},
   "outputs": [],
   "source": [
    "output_subset = output_subset[:,1:]"
   ]
  },
  {
   "cell_type": "code",
   "execution_count": 41,
   "metadata": {},
   "outputs": [],
   "source": [
    "output_subset = torch.tensor(output_subset).transpose(2,3)"
   ]
  },
  {
   "cell_type": "code",
   "execution_count": 44,
   "metadata": {},
   "outputs": [],
   "source": [
    "for i, image in enumerate(output_subset):\n",
    "    result = []\n",
    "    for e, epoch in enumerate(image):\n",
    "        for c, data in enumerate(epoch):\n",
    "            perc = np.percentile(data,[10,25,50,75,90])\n",
    "            entry = dict()\n",
    "            entry['classLabel'] = c\n",
    "            entry['epoch'] = e\n",
    "            entry['lowerWhisker'] = perc[0]\n",
    "            entry['lowerQuartile'] = perc[1]\n",
    "            entry['median'] = perc[2]\n",
    "            entry['upperQuartile'] = perc[3]\n",
    "            entry['upperWhisker'] = perc[4]\n",
    "            result.append(entry)\n",
    "    with open('exported-data/boxplot-data/boxpl-{:03}.json'.format(i), 'w') as outfile:  \n",
    "        json.dump(result, outfile)"
   ]
  },
  {
   "cell_type": "code",
   "execution_count": null,
   "metadata": {},
   "outputs": [],
   "source": []
  }
 ],
 "metadata": {
  "kernelspec": {
   "display_name": "Python 3",
   "language": "python",
   "name": "python3"
  },
  "language_info": {
   "codemirror_mode": {
    "name": "ipython",
    "version": 3
   },
   "file_extension": ".py",
   "mimetype": "text/x-python",
   "name": "python",
   "nbconvert_exporter": "python",
   "pygments_lexer": "ipython3",
   "version": "3.7.2"
  }
 },
 "nbformat": 4,
 "nbformat_minor": 2
}

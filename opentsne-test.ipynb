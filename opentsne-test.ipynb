{
 "cells": [
  {
   "cell_type": "code",
   "execution_count": null,
   "metadata": {},
   "outputs": [],
   "source": [
    "%matplotlib inline\n",
    "from openTSNE import TSNE\n",
    "from openTSNE.callbacks import ErrorLogger\n",
    "import numpy as np\n",
    "import torch\n",
    "from matplotlib import pyplot as plt\n",
    "from matplotlib.patches import Patch\n",
    "\n",
    "from samplednn.mnistloader import setup_mnist_loader"
   ]
  },
  {
   "cell_type": "code",
   "execution_count": null,
   "metadata": {},
   "outputs": [],
   "source": [
    "mnist_test = setup_mnist_loader(train=True)"
   ]
  },
  {
   "cell_type": "code",
   "execution_count": null,
   "metadata": {},
   "outputs": [],
   "source": [
    "bayes_ep4 = np.load('models/bayesian/predictions/mnist_train_train/mnist_train_ep004.npy')\n",
    "np.random.seed(42)\n",
    "bayes_ep4 = np.random.permutation(bayes_ep4)\n",
    "bayes_ep4 = np.concatenate(bayes_ep4[::20,::10])"
   ]
  },
  {
   "cell_type": "code",
   "execution_count": null,
   "metadata": {},
   "outputs": [],
   "source": [
    "labels = mnist_test.dataset.targets.numpy()\n",
    "np.random.seed(42)\n",
    "labels = np.random.permutation(labels)\n",
    "labels = labels[::20].repeat(10)"
   ]
  },
  {
   "cell_type": "code",
   "execution_count": null,
   "metadata": {},
   "outputs": [],
   "source": [
    "tsne = openTSNE.TSNE(\n",
    "    n_components=2,\n",
    "    perplexity=100,\n",
    "    n_jobs=4,\n",
    "    metric='euclidean',\n",
    "    callbacks=ErrorLogger(),\n",
    "    random_state=42\n",
    ")"
   ]
  },
  {
   "cell_type": "code",
   "execution_count": null,
   "metadata": {},
   "outputs": [],
   "source": [
    "%time embedding = tsne.fit(bayes_ep4)"
   ]
  },
  {
   "cell_type": "code",
   "execution_count": null,
   "metadata": {},
   "outputs": [],
   "source": [
    "def sort_and_plot(embedding, labels):\n",
    "    emb_sorted = [x for _,x in sorted(zip(labels, embedding), key=lambda pair: pair[0])]\n",
    "    fig = plt.figure(figsize=(10,10))\n",
    "    ax = fig.add_subplot(111)\n",
    "    ax.set_ylim([-60,60])\n",
    "    ax.set_xlim([-60,60])\n",
    "    ax.set_aspect(1)\n",
    "    [ax.scatter(d[:,0], d[:,1], s=0.4) for i,d in enumerate(np.array(emb_sorted).reshape(10,-1,2))]\n",
    "    plt.legend(handles=[Patch(color=plt.cm.tab10(i)) for i in range(10)], labels=[str(i) for i in range(10)], loc='upper left')\n",
    "    plt.show()"
   ]
  },
  {
   "cell_type": "code",
   "execution_count": null,
   "metadata": {},
   "outputs": [],
   "source": [
    "sort_and_plot(embedding, labels)"
   ]
  },
  {
   "cell_type": "code",
   "execution_count": null,
   "metadata": {},
   "outputs": [],
   "source": [
    "import scipy.stats as st"
   ]
  },
  {
   "cell_type": "code",
   "execution_count": null,
   "metadata": {},
   "outputs": [],
   "source": [
    "def sort_and_plot(embedding, labels):\n",
    "    emb_sorted = [x for _,x in sorted(zip(labels, embedding), key=lambda pair: pair[0])]\n",
    "    fig = plt.figure(figsize=(10,10))\n",
    "    ax = fig.add_subplot(111)\n",
    "    ax.set_aspect(1)\n",
    "    [ax.scatter(d[:,0], d[:,1], s=0.4) for d in np.array(emb_sorted).reshape(10,-1,2)]\n",
    "    plt.show()"
   ]
  },
  {
   "cell_type": "code",
   "execution_count": null,
   "metadata": {},
   "outputs": [],
   "source": [
    "emb_sorted = [x for _,x in sorted(zip(labels, embedding), key=lambda pair: pair[0])]\n",
    "emb_sorted = np.array(emb_sorted).reshape(10,-1,2)\n",
    "xx, yy = np.mgrid[-60:60:200j, -60:60:200j]\n",
    "pos = np.vstack([xx.ravel(), yy.ravel()])\n",
    "kernel = st.gaussian_kde(emb_sorted[0].transpose())\n",
    "foo = np.reshape(kernel(pos).T, xx.shape)"
   ]
  },
  {
   "cell_type": "code",
   "execution_count": null,
   "metadata": {},
   "outputs": [],
   "source": [
    "plt.contour(xx,yy,foo)"
   ]
  },
  {
   "cell_type": "code",
   "execution_count": null,
   "metadata": {},
   "outputs": [],
   "source": [
    "def contour_plot(embedding, labels):\n",
    "    emb_sorted = [x for _,x in sorted(zip(labels, embedding), key=lambda pair: pair[0])]\n",
    "    fig = plt.figure(figsize=(10,10))\n",
    "    ax = fig.add_subplot(111)\n",
    "    ax.set_aspect(1)\n",
    "    xx, yy = np.mgrid[-60:60:200j, -60:60:200j]\n",
    "    pos = np.vstack([xx.ravel(), yy.ravel()])\n",
    "    for i,d in enumerate(np.array(emb_sorted).reshape(10,-1,2)):\n",
    "        kernel = st.gaussian_kde(d.T)\n",
    "        density = np.reshape(kernel(pos).T, xx.shape)\n",
    "        ax.contour(xx, yy,density, colors=[plt.cm.tab10(i)], levels=3)\n",
    "    plt.legend(handles=[Patch(color=plt.cm.tab10(i)) for i in range(10)], labels=[str(i) for i in range(10)], loc='upper left')\n",
    "    plt.show()"
   ]
  },
  {
   "cell_type": "code",
   "execution_count": null,
   "metadata": {},
   "outputs": [],
   "source": [
    "contour_plot(embedding, labels)"
   ]
  },
  {
   "cell_type": "code",
   "execution_count": null,
   "metadata": {},
   "outputs": [],
   "source": [
    "bayes_ep3 = np.load('models/bayesian/predictions/mnist_train_train/mnist_train_ep003.npy')\n",
    "np.random.seed(42)\n",
    "bayes_ep3 = np.random.permutation(bayes_ep3)\n",
    "bayes_ep3 = np.concatenate(bayes_ep3[::20,::10])"
   ]
  },
  {
   "cell_type": "code",
   "execution_count": null,
   "metadata": {},
   "outputs": [],
   "source": [
    "emb_ep3 = embedding.transform(bayes_ep3)"
   ]
  },
  {
   "cell_type": "code",
   "execution_count": null,
   "metadata": {},
   "outputs": [],
   "source": [
    "contour_plot(emb_ep3, labels)"
   ]
  },
  {
   "cell_type": "code",
   "execution_count": null,
   "metadata": {},
   "outputs": [],
   "source": [
    "sort_and_plot(emb_ep3, labels)"
   ]
  },
  {
   "cell_type": "code",
   "execution_count": null,
   "metadata": {},
   "outputs": [],
   "source": [
    "tsne2 = openTSNE.TSNE(\n",
    "    n_components=2,\n",
    "    perplexity=100,\n",
    "    n_jobs=4,\n",
    "    metric='euclidean',\n",
    "    callbacks=ErrorLogger(),\n",
    "    random_state=42\n",
    ")"
   ]
  },
  {
   "cell_type": "code",
   "execution_count": null,
   "metadata": {},
   "outputs": [],
   "source": [
    "emb_ep3_nooose = tsne2.fit(bayes_ep3)"
   ]
  },
  {
   "cell_type": "code",
   "execution_count": null,
   "metadata": {},
   "outputs": [],
   "source": [
    "sort_and_plot(-emb_ep3_nooose, labels)"
   ]
  },
  {
   "cell_type": "code",
   "execution_count": null,
   "metadata": {},
   "outputs": [],
   "source": [
    "drop_ep4 = np.load('models/dropout/predictions/mnist_train_train/mnist_train_ep004.npy')\n",
    "np.random.seed(42)\n",
    "drop_ep4 = np.random.permutation(drop_ep4)\n",
    "drop_ep4 = np.concatenate(drop_ep4[::20,::10])"
   ]
  },
  {
   "cell_type": "code",
   "execution_count": null,
   "metadata": {},
   "outputs": [],
   "source": [
    "tsne_drop = openTSNE.TSNE(\n",
    "    n_components=2,\n",
    "    perplexity=100,\n",
    "    n_jobs=4,\n",
    "    metric='euclidean',\n",
    "    callbacks=ErrorLogger(),\n",
    "    random_state=42\n",
    ")"
   ]
  },
  {
   "cell_type": "code",
   "execution_count": null,
   "metadata": {},
   "outputs": [],
   "source": [
    "drop_emb_ep4 = tsne_drop.fit(drop_ep4)"
   ]
  },
  {
   "cell_type": "code",
   "execution_count": null,
   "metadata": {},
   "outputs": [],
   "source": [
    "sort_and_plot(drop_emb_ep4, labels)"
   ]
  },
  {
   "cell_type": "code",
   "execution_count": null,
   "metadata": {},
   "outputs": [],
   "source": [
    "drop_ep3 = np.load('models/dropout/predictions/mnist_train_train/mnist_train_ep003.npy')\n",
    "np.random.seed(42)\n",
    "drop_ep3 = np.random.permutation(drop_ep3)\n",
    "drop_ep3 = np.concatenate(drop_ep3[::20,::10])"
   ]
  },
  {
   "cell_type": "code",
   "execution_count": null,
   "metadata": {},
   "outputs": [],
   "source": [
    "drop_emb_ep3 = drop_emb_ep4.transform(drop_ep3)"
   ]
  },
  {
   "cell_type": "code",
   "execution_count": null,
   "metadata": {},
   "outputs": [],
   "source": [
    "sort_and_plot(drop_emb_ep3, labels)"
   ]
  },
  {
   "cell_type": "code",
   "execution_count": null,
   "metadata": {},
   "outputs": [],
   "source": [
    "drop_emb_ep3_nooose = tsne_drop.fit(drop_ep3)"
   ]
  },
  {
   "cell_type": "code",
   "execution_count": null,
   "metadata": {},
   "outputs": [],
   "source": [
    "sort_and_plot(drop_emb_ep3_nooose, labels)"
   ]
  },
  {
   "cell_type": "code",
   "execution_count": null,
   "metadata": {},
   "outputs": [],
   "source": []
  }
 ],
 "metadata": {
  "kernelspec": {
   "display_name": "Python 3",
   "language": "python",
   "name": "python3"
  },
  "language_info": {
   "codemirror_mode": {
    "name": "ipython",
    "version": 3
   },
   "file_extension": ".py",
   "mimetype": "text/x-python",
   "name": "python",
   "nbconvert_exporter": "python",
   "pygments_lexer": "ipython3",
   "version": "3.7.4"
  }
 },
 "nbformat": 4,
 "nbformat_minor": 4
}
